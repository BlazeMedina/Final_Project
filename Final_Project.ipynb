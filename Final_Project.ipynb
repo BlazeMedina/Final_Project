{
 "cells": [
  {
   "cell_type": "code",
   "execution_count": null,
   "id": "f54bb0c9",
   "metadata": {},
   "outputs": [],
   "source": [
    "import numpy as np\n",
    "import pandas as pd\n",
    "from pathlib import Path\n",
    "# Load data libraries\n",
    "import numpy as np # linear algebra\n",
    "import pandas as pd # data processing, CSV file I/O \n",
    "from sklearn.model_selection import train_test_split\n",
    "\n",
    "import plotly.express as px\n",
    "import requests\n",
    "# For visualizations\n",
    "import matplotlib.pyplot as plt\n",
    "import seaborn as sns\n",
    "%matplotlib inline\n",
    "from collections import Counter\n",
    "from sklearn.cluster import KMeans\n",
    "from sklearn.preprocessing import StandardScaler,OneHotEncoder\n",
    "from IPython.display import display\n"
   ]
  },
  {
   "cell_type": "code",
   "execution_count": null,
   "id": "7376aa89",
   "metadata": {},
   "outputs": [],
   "source": [
    "plt.rcParams['figure.figsize'] = (15, 9)\n",
    "\n",
    "properties_df  = pd.read_csv(\"properties_2017.csv\",low_memory = False)\n"
   ]
  },
  {
   "cell_type": "code",
   "execution_count": null,
   "id": "c075cce0",
   "metadata": {},
   "outputs": [],
   "source": [
    "# print the dataset description\n",
    "print(properties_df.describe())\n"
   ]
  },
  {
   "cell_type": "code",
   "execution_count": null,
   "id": "1fa13c2d",
   "metadata": {},
   "outputs": [],
   "source": [
    "properties_df.columns"
   ]
  },
  {
   "cell_type": "code",
   "execution_count": null,
   "id": "5ef63f78",
   "metadata": {},
   "outputs": [],
   "source": [
    "columns = (['parcelid',  'calculatedbathnbr',\n",
    "        'calculatedfinishedsquarefeet', 'fireplacecnt',\n",
    "       'fullbathcnt', 'garagecarcnt', 'garagetotalsqft',\n",
    "       'heatingorsystemtypeid', 'lotsizesquarefeet',\n",
    "       'poolcnt', 'poolsizesum', \n",
    "        'propertylandusetypeid',\n",
    "       'rawcensustractandblock', 'regionidcity',\n",
    "       'regionidcounty', 'regionidneighborhood', 'regionidzip', 'roomcnt',\n",
    "        'yearbuilt',\n",
    "       'numberofstories',  \n",
    "       'taxvaluedollarcnt'])\n",
    "\n"
   ]
  },
  {
   "cell_type": "code",
   "execution_count": null,
   "id": "074ec7ec",
   "metadata": {},
   "outputs": [],
   "source": [
    "properties_df = properties_df.loc[:, columns].copy()\n",
    "properties_df"
   ]
  },
  {
   "cell_type": "code",
   "execution_count": null,
   "id": "1f0c36ea",
   "metadata": {},
   "outputs": [],
   "source": [
    "properties_df.isnull().sum()"
   ]
  },
  {
   "cell_type": "code",
   "execution_count": null,
   "id": "61d44536",
   "metadata": {},
   "outputs": [],
   "source": [
    "properties_df['fireplacecnt'].fillna(0, inplace = True)\n",
    "properties_df['fullbathcnt'].fillna(0, inplace = True)\n",
    "properties_df['garagecarcnt'].fillna(0, inplace = True)\n",
    "properties_df['calculatedbathnbr'].fillna(0, inplace = True)\n",
    "properties_df['calculatedfinishedsquarefeet'].fillna(0, inplace = True)\n",
    "properties_df['lotsizesquarefeet'].fillna(0, inplace = True)       \n",
    "properties_df['poolcnt'].fillna(0, inplace = True)       \n",
    "properties_df['poolsizesum'].fillna(0, inplace = True)          \n",
    "properties_df['propertylandusetypeid'].fillna(0, inplace = True)       \n",
    "properties_df['rawcensustractandblock'].fillna(0, inplace = True)       \n",
    "properties_df['regionidcity'].fillna(0, inplace = True)       \n",
    "properties_df['regionidcounty'].fillna(0, inplace = True)       \n",
    "properties_df['regionidneighborhood'].fillna(0, inplace = True)       \n",
    "properties_df['garagetotalsqft'].fillna(value=properties_df['garagetotalsqft'].mean(), inplace = True)\n",
    "properties_df['heatingorsystemtypeid'].fillna(0, inplace = True)\n",
    "properties_df['regionidzip'].fillna(0, inplace = True)\n",
    "properties_df['roomcnt'].fillna(0, inplace = True)\n",
    "properties_df['yearbuilt'].fillna(0, inplace = True)\n",
    "properties_df['numberofstories'].fillna(0, inplace = True)\n",
    "properties_df['taxvaluedollarcnt'].fillna(0, inplace = True)"
   ]
  },
  {
   "cell_type": "code",
   "execution_count": null,
   "id": "32909926",
   "metadata": {},
   "outputs": [],
   "source": [
    "properties_df.isnull().sum()"
   ]
  },
  {
   "cell_type": "code",
   "execution_count": null,
   "id": "a4851484",
   "metadata": {},
   "outputs": [],
   "source": [
    "properties_df.reset_index(drop=True)\n",
    "properties_df.dtypes"
   ]
  },
  {
   "cell_type": "code",
   "execution_count": null,
   "id": "7b40ec88",
   "metadata": {},
   "outputs": [],
   "source": [
    "from termcolor import colored as cl # text customization\n",
    "properties_df['fireplacecnt'] = pd.to_numeric(properties_df['fireplacecnt'], errors = 'coerce')\n",
    "properties_df['fireplacecnt'] = properties_df['fireplacecnt'].astype('int64')\n",
    "\n",
    "properties_df['fullbathcnt'] = pd.to_numeric(properties_df['fullbathcnt'], errors = 'coerce')\n",
    "properties_df['fullbathcnt'] = properties_df['fullbathcnt'].astype('int64')\n",
    "\n",
    "properties_df['calculatedbathnbr'] = pd.to_numeric(properties_df['calculatedbathnbr'], errors = 'coerce')\n",
    "properties_df['calculatedbathnbr'] = properties_df['calculatedbathnbr'].astype('int64')\n",
    "\n",
    "\n",
    "properties_df['calculatedfinishedsquarefeet'] = pd.to_numeric(properties_df['calculatedfinishedsquarefeet'], errors = 'coerce')\n",
    "properties_df['calculatedfinishedsquarefeet'] = properties_df['calculatedfinishedsquarefeet'].astype('int64')\n",
    "\n",
    "\n",
    "properties_df['garagecarcnt'] = pd.to_numeric(properties_df['garagecarcnt'], errors = 'coerce')\n",
    "properties_df['garagecarcnt'] = properties_df['garagecarcnt'].astype('int64')\n",
    "\n",
    "properties_df['regionidcity'] = pd.to_numeric(properties_df['regionidcity'], errors = 'coerce')\n",
    "properties_df['regionidcity'] = properties_df['regionidcity'].astype('int64')\n",
    "\n",
    "properties_df['regionidcounty'] = pd.to_numeric(properties_df['regionidcounty'], errors = 'coerce')\n",
    "properties_df['regionidcounty'] = properties_df['regionidcounty'].astype('int64')\n",
    "\n",
    "properties_df['regionidneighborhood'] = pd.to_numeric(properties_df['regionidneighborhood'], errors = 'coerce')\n",
    "properties_df['regionidneighborhood'] = properties_df['regionidneighborhood'].astype('int64')\n",
    "\n",
    "\n",
    "properties_df['garagetotalsqft'] = pd.to_numeric(properties_df['garagetotalsqft'], errors = 'coerce')\n",
    "properties_df['garagetotalsqft'] = properties_df['garagetotalsqft'].astype('int64')\n",
    "\n",
    "properties_df['heatingorsystemtypeid'] = pd.to_numeric(properties_df['heatingorsystemtypeid'], errors = 'coerce')\n",
    "properties_df['heatingorsystemtypeid'] = properties_df['heatingorsystemtypeid'].astype('int64')\n",
    "\n",
    "                                                                                         \n",
    "properties_df['regionidzip'] = pd.to_numeric(properties_df['regionidzip'], errors = 'coerce')\n",
    "properties_df['regionidzip'] = properties_df['regionidzip'].astype('int64')\n",
    "\n",
    "properties_df['roomcnt'] = pd.to_numeric(properties_df['roomcnt'], errors = 'coerce')\n",
    "properties_df['roomcnt'] = properties_df['roomcnt'].astype('int64')\n",
    "\n",
    "properties_df['yearbuilt'] = pd.to_numeric(properties_df['yearbuilt'], errors = 'coerce')\n",
    "properties_df['yearbuilt'] = properties_df['yearbuilt'].astype('int64')\n",
    "                                                                                       \n",
    "                                                                                       \n",
    "properties_df['numberofstories'] = pd.to_numeric(properties_df['numberofstories'], errors = 'coerce')\n",
    "properties_df['numberofstories'] = properties_df['numberofstories'].astype('int64')\n",
    "                                                                                       \n",
    "                                                                                                                                                        \n",
    "                                                                                       \n",
    "properties_df['taxvaluedollarcnt'] = pd.to_numeric(properties_df['taxvaluedollarcnt'], errors = 'coerce')\n",
    "properties_df['taxvaluedollarcnt'] = properties_df['taxvaluedollarcnt'].astype('int64')\n",
    "                                                                                       \n",
    "properties_df['calculatedbathnbr'] = pd.to_numeric(properties_df['calculatedbathnbr'], errors = 'coerce')\n",
    "properties_df['calculatedbathnbr'] = properties_df['calculatedbathnbr'].astype('int64')\n",
    "   \n",
    "properties_df['lotsizesquarefeet'] = pd.to_numeric(properties_df['lotsizesquarefeet'], errors = 'coerce')\n",
    "properties_df['lotsizesquarefeet'] = properties_df['lotsizesquarefeet'].astype('int64')\n",
    "                    \n",
    "                    \n",
    "properties_df['poolcnt'] = pd.to_numeric(properties_df['poolcnt'], errors = 'coerce')\n",
    "properties_df['poolcnt'] = properties_df['poolcnt'].astype('int64')\n",
    "                    \n",
    "                    \n",
    "properties_df['poolsizesum'] = pd.to_numeric(properties_df['poolsizesum'], errors = 'coerce')\n",
    "properties_df['poolsizesum'] = properties_df['poolsizesum'].astype('int64')\n",
    "                    \n",
    "properties_df['propertylandusetypeid'] = pd.to_numeric(properties_df['propertylandusetypeid'], errors = 'coerce')\n",
    "properties_df['propertylandusetypeid'] = properties_df['propertylandusetypeid'].astype('int64')\n",
    " \n",
    "properties_df['rawcensustractandblock'] = pd.to_numeric(properties_df['rawcensustractandblock'], errors = 'coerce')\n",
    "properties_df['rawcensustractandblock'] = properties_df['rawcensustractandblock'].astype('int64')\n",
    " \n",
    "properties_df['taxvaluedollarcnt'] = pd.to_numeric(properties_df['taxvaluedollarcnt'], errors = 'coerce')\n",
    "properties_df['taxvaluedollarcnt'] = properties_df['taxvaluedollarcnt'].astype('int64')\n",
    "\n",
    "\n",
    "\n",
    "print(cl(properties_df.dtypes, attrs = ['bold']))"
   ]
  },
  {
   "cell_type": "code",
   "execution_count": null,
   "id": "27c0aed8",
   "metadata": {},
   "outputs": [],
   "source": [
    "properties_df.to_csv('properties_2017_clean.csv')"
   ]
  },
  {
   "cell_type": "code",
   "execution_count": null,
   "id": "5d907eb6",
   "metadata": {},
   "outputs": [],
   "source": [
    "import seaborn as sb # visualization\n",
    "sb.heatmap(properties_df.corr(), annot = True, cmap = 'magma')\n",
    "\n",
    "plt.savefig('heatmap.png')\n",
    "plt.show()"
   ]
  },
  {
   "cell_type": "code",
   "execution_count": null,
   "id": "26047310",
   "metadata": {},
   "outputs": [],
   "source": [
    "X = properties_df.copy()\n",
    "X = X.drop(columns='taxvaluedollarcnt', axis=1)\n",
    "X"
   ]
  },
  {
   "cell_type": "code",
   "execution_count": null,
   "id": "c36c43c7",
   "metadata": {},
   "outputs": [],
   "source": [
    "y = properties_df[\"taxvaluedollarcnt\"]\n",
    "y"
   ]
  },
  {
   "cell_type": "code",
   "execution_count": null,
   "id": "fec627c8",
   "metadata": {},
   "outputs": [],
   "source": [
    "y.value_counts()"
   ]
  },
  {
   "cell_type": "code",
   "execution_count": null,
   "id": "f81cc250",
   "metadata": {},
   "outputs": [],
   "source": [
    "# Split into Train and Test sets. \n",
    "X_train, X_test, y_train, y_test = train_test_split(X, y, test_size = 0.2, random_state = 0)\n",
    "# Determine the shape of our training and testing sets.\n",
    "print(X_train.shape)\n",
    "print(X_test.shape)\n",
    "print(y_train.shape)\n",
    "print(y_test.shape)"
   ]
  },
  {
   "cell_type": "code",
   "execution_count": null,
   "id": "9e9128ec",
   "metadata": {},
   "outputs": [],
   "source": [
    "# Create a StandardScaler instance. \n",
    "scaler = StandardScaler()\n",
    "# Fit the Standard Scaler with the training data. \n",
    "X_scaler = scaler.fit(X_train)\n",
    "# Scale the data\n",
    "X_train_scaled = X_scaler.transform(X_train)\n",
    "X_test_scaled = X_scaler.transform(X_test)"
   ]
  },
  {
   "cell_type": "code",
   "execution_count": null,
   "id": "ea38c97e",
   "metadata": {},
   "outputs": [],
   "source": [
    "# 3. Distribution plot\n",
    "sb.displot(properties_df['taxvaluedollarcnt'], color = 'r')\n",
    "plt.title('Sale Price Distribution', fontsize = 16)\n",
    "plt.xlabel('Sale Price', fontsize = 14)\n",
    "plt.ylabel('Frequency', fontsize = 14)\n",
    "plt.xticks(fontsize = 12)\n",
    "plt.yticks(fontsize = 12)\n",
    "\n",
    "plt.savefig('displot.png')\n",
    "plt.show()"
   ]
  },
  {
   "cell_type": "code",
   "execution_count": null,
   "id": "ab0e9e7c",
   "metadata": {},
   "outputs": [],
   "source": [
    "# Calculated the balanced accuracy score\n",
    "from sklearn.metrics import balanced_accuracy_score\n",
    "balanced_accuracy_score(y_test, y_pred)"
   ]
  },
  {
   "cell_type": "code",
   "execution_count": null,
   "id": "5b0c235e",
   "metadata": {},
   "outputs": [],
   "source": [
    "# Display the confusion matrix\n",
    "from sklearn.metrics import confusion_matrix\n",
    "confusion_matrix(y_test, y_pred)"
   ]
  },
  {
   "cell_type": "code",
   "execution_count": null,
   "id": "df191244",
   "metadata": {},
   "outputs": [],
   "source": [
    "from imblearn.metrics import classification_report_imbalanced\n",
    "print(classification_report_imbalanced(y_test, y_pred))"
   ]
  },
  {
   "cell_type": "code",
   "execution_count": null,
   "id": "269caaaa",
   "metadata": {},
   "outputs": [],
   "source": [
    "X.columns"
   ]
  },
  {
   "cell_type": "code",
   "execution_count": null,
   "id": "4e5b5eef",
   "metadata": {},
   "outputs": [],
   "source": [
    "# List the features sorted in descending order by feature importance\n",
    "sorted(zip(brf.feature_importances_, X_train.columns), reverse=True)"
   ]
  },
  {
   "cell_type": "code",
   "execution_count": null,
   "id": "bf4d66cb",
   "metadata": {},
   "outputs": [],
   "source": []
  },
  {
   "cell_type": "code",
   "execution_count": null,
   "id": "dd2ae35e",
   "metadata": {},
   "outputs": [],
   "source": []
  },
  {
   "cell_type": "code",
   "execution_count": null,
   "id": "1a31517c",
   "metadata": {},
   "outputs": [],
   "source": []
  },
  {
   "cell_type": "code",
   "execution_count": null,
   "id": "a08f0c69",
   "metadata": {},
   "outputs": [],
   "source": []
  }
 ],
 "metadata": {
  "kernelspec": {
   "display_name": "Python 3 (ipykernel)",
   "language": "python",
   "name": "python3"
  },
  "language_info": {
   "codemirror_mode": {
    "name": "ipython",
    "version": 3
   },
   "file_extension": ".py",
   "mimetype": "text/x-python",
   "name": "python",
   "nbconvert_exporter": "python",
   "pygments_lexer": "ipython3",
   "version": "3.10.9"
  }
 },
 "nbformat": 4,
 "nbformat_minor": 5
}
