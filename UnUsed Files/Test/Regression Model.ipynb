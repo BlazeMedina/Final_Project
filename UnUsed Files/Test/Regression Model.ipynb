{
 "cells": [
  {
   "cell_type": "code",
   "execution_count": null,
   "id": "ca3169c5",
   "metadata": {},
   "outputs": [],
   "source": [
    "# Dependencies\n",
    "import numpy as np\n",
    "import pandas as pd\n",
    "import matplotlib.pyplot as plt\n",
    "import seaborn as sns\n",
    "import mpl_toolkits\n",
    "%matplotlib inline\n",
    "import re\n",
    "import tensorflow as tf\n",
    "from keras.callbacks import ModelCheckpoint"
   ]
  },
  {
   "cell_type": "code",
   "execution_count": null,
   "id": "9597b316",
   "metadata": {},
   "outputs": [],
   "source": [
    "# Read data\n",
    "data_w = pd.read_csv(\"zillow_wake_co.csv\")\n",
    "data_d = pd.read_csv(\"zillow_durham_co_df.csv\")"
   ]
  },
  {
   "cell_type": "code",
   "execution_count": null,
   "id": "b008264b",
   "metadata": {},
   "outputs": [],
   "source": [
    "# Concatenate both dataframes\n",
    "data = pd.concat([data_w, data_d], axis=0)\n",
    "data"
   ]
  },
  {
   "cell_type": "code",
   "execution_count": null,
   "id": "115fc131",
   "metadata": {},
   "outputs": [],
   "source": [
    "# If props.AreaUnit is = to sqft then convert it to acres\n",
    "data.loc[(data['props.lotAreaUnit'] == 'sqft'), 'props.lotAreaValue'] /= 43560\n",
    "data"
   ]
  },
  {
   "cell_type": "code",
   "execution_count": null,
   "id": "4fe43147",
   "metadata": {},
   "outputs": [],
   "source": [
    "# Extract zip code from address\n",
    "data['zip'] = data['props.address'].str.extract('(?<=NC )([^,]*)(?=$)', expand = True)\n",
    "data['zip'].astype(str).astype(int)\n",
    "data['zip'].head()"
   ]
  },
  {
   "cell_type": "code",
   "execution_count": null,
   "id": "6a033bb7",
   "metadata": {},
   "outputs": [],
   "source": [
    "# Extract city code from address\n",
    "data['city'] = data['props.address'].str.extract('(?<=, )([^,]*)(?=,)', expand = True)   \n",
    "data['city'].head()"
   ]
  },
  {
   "cell_type": "code",
   "execution_count": null,
   "id": "a5f3b45a",
   "metadata": {},
   "outputs": [],
   "source": [
    "# Create data_df dataframe from select columns in data dataframe\n",
    "data_df = data[['city','zip','props.zestimate','props.propertyType','props.bedrooms','props.bathrooms','props.livingArea','props.lotAreaValue','props.latitude','props.longitude']]\n",
    "\n",
    "# Drop rows where bedrooms, bathrooms, or livingArea = 0\n",
    "data_df = data_df[data_df['props.bedrooms'] != 0]\n",
    "data_df = data_df[data_df['props.bathrooms'] != 0]\n",
    "data_df = data_df[data_df['props.livingArea'] != 0]\n",
    "\n",
    "# Drop NA\n",
    "data_df = data_df.dropna()\n",
    "\n",
    "data_df.head()"
   ]
  },
  {
   "cell_type": "code",
   "execution_count": null,
   "id": "7eb61366",
   "metadata": {},
   "outputs": [],
   "source": [
    "# Change dtypes of columns\n",
    "data_df['zip'] = data_df['zip'].astype(str).astype(int)\n",
    "data_df['props.bedrooms'] = data_df['props.bedrooms'].astype(int)\n",
    "data_df['props.bathrooms'] = data_df['props.bathrooms'].astype(int)\n",
    "data_df.dtypes"
   ]
  },
  {
   "cell_type": "code",
   "execution_count": null,
   "id": "63b77990",
   "metadata": {},
   "outputs": [],
   "source": [
    "# Describe data_df\n",
    "data_df.describe()"
   ]
  },
  {
   "cell_type": "code",
   "execution_count": null,
   "id": "7864bfa6",
   "metadata": {},
   "outputs": [],
   "source": [
    "# Determine # of unique values per column\n",
    "data_df.nunique()"
   ]
  },
  {
   "cell_type": "code",
   "execution_count": null,
   "id": "635909f7",
   "metadata": {},
   "outputs": [],
   "source": [
    "data_df['props.bedrooms'].value_counts().plot(kind='bar')\n",
    "plt.title('number of Bedroom')\n",
    "plt.xlabel('Bedrooms')\n",
    "plt.ylabel('Count')\n",
    "sns.despine"
   ]
  },
  {
   "cell_type": "code",
   "execution_count": null,
   "id": "6323bb20",
   "metadata": {},
   "outputs": [],
   "source": [
    "plt.scatter(data_df[\"props.zestimate\"],data_df[\"props.livingArea\"])\n",
    "plt.title(\"Price vs Square Feet\")"
   ]
  },
  {
   "cell_type": "code",
   "execution_count": null,
   "id": "7e2b4d4e",
   "metadata": {},
   "outputs": [],
   "source": [
    "# Create dataframe that contains all variables except the zestimates\n",
    "train_data = data_df.drop(['props.zestimate','props.longitude','props.latitude'], axis=1)\n",
    "train_data"
   ]
  },
  {
   "cell_type": "code",
   "execution_count": null,
   "id": "de2abdda",
   "metadata": {},
   "outputs": [],
   "source": [
    "# categorical columns\n",
    "categorical_cols = ['city','props.propertyType']\n",
    "\n",
    "train_data= pd.get_dummies(train_data, columns = categorical_cols)\n",
    "train_data"
   ]
  },
  {
   "cell_type": "code",
   "execution_count": null,
   "id": "98cd1392",
   "metadata": {},
   "outputs": [],
   "source": [
    "# set up linear regression on data\n",
    "from sklearn.linear_model import LinearRegression\n",
    "reg = LinearRegression()"
   ]
  },
  {
   "cell_type": "code",
   "execution_count": null,
   "id": "1625bbe4",
   "metadata": {},
   "outputs": [],
   "source": [
    "# Train-Test-Split data\n",
    "from sklearn.model_selection import train_test_split\n",
    "\n",
    "labels = data_df['props.zestimate']\n",
    "X_train, X_test, y_train, y_test = train_test_split(train_data, labels, test_size = 0.20, random_state = 42)"
   ]
  },
  {
   "cell_type": "code",
   "execution_count": null,
   "id": "0446a282",
   "metadata": {},
   "outputs": [],
   "source": [
    "reg.fit(X_train,y_train)"
   ]
  },
  {
   "cell_type": "code",
   "execution_count": null,
   "id": "55163f51",
   "metadata": {},
   "outputs": [],
   "source": [
    "reg.score(X_test,y_test)"
   ]
  },
  {
   "cell_type": "code",
   "execution_count": null,
   "id": "f15318dc",
   "metadata": {},
   "outputs": [],
   "source": [
    "####################\n",
    "## LGBMRegressor  ##\n",
    "####################"
   ]
  },
  {
   "cell_type": "code",
   "execution_count": null,
   "id": "b1d5845d",
   "metadata": {},
   "outputs": [],
   "source": [
    "import lightgbm as ltb\n",
    "\n",
    "model = ltb.LGBMRegressor()\n",
    "model.fit(X_train, y_train)\n",
    "print(); print(model)\n",
    "\n",
    "expected_y  = y_test\n",
    "predicted_y = model.predict(X_test)"
   ]
  },
  {
   "cell_type": "code",
   "execution_count": null,
   "id": "f95f96c2",
   "metadata": {},
   "outputs": [],
   "source": [
    "from sklearn import metrics\n",
    "print(metrics.r2_score(expected_y, predicted_y))\n",
    "print(metrics.mean_squared_log_error(expected_y, predicted_y))"
   ]
  },
  {
   "cell_type": "code",
   "execution_count": null,
   "id": "f2a135ca",
   "metadata": {},
   "outputs": [],
   "source": [
    "    plt.figure(figsize=(10,10))\n",
    "    sns.regplot(expected_y, predicted_y, fit_reg=True, scatter_kws={\"s\": 100})"
   ]
  },
  {
   "cell_type": "code",
   "execution_count": null,
   "id": "fcb7e021",
   "metadata": {},
   "outputs": [],
   "source": [
    "####################\n",
    "##  XGBRegressor  ##\n",
    "####################"
   ]
  },
  {
   "cell_type": "code",
   "execution_count": null,
   "id": "1f6f68de",
   "metadata": {},
   "outputs": [],
   "source": [
    "\n",
    "\n",
    "from numpy import absolute\n",
    "from sklearn.model_selection import cross_val_score\n",
    "from sklearn.model_selection import RepeatedKFold\n",
    "from xgboost import XGBRegressor\n",
    "\n",
    "\n",
    "# create an xgboost regression model\n",
    "model = XGBRegressor()\n",
    "# define model evaluation method\n",
    "cv = RepeatedKFold(n_splits=10, n_repeats=3, random_state=42)\n",
    "# evaluate model\n",
    "scores = cross_val_score(model, X_train, y_train, scoring='neg_mean_absolute_error', cv=cv, n_jobs=-1)\n",
    "# force scores to be positive\n",
    "scores = absolute(scores)\n",
    "print('Mean MAE: %.3f (%.3f)' % (scores.mean(), scores.std()) )"
   ]
  },
  {
   "cell_type": "code",
   "execution_count": null,
   "id": "540f50d5",
   "metadata": {},
   "outputs": [],
   "source": [
    "model.fit(X_train, y_train)"
   ]
  },
  {
   "cell_type": "code",
   "execution_count": null,
   "id": "2c813a8d",
   "metadata": {},
   "outputs": [],
   "source": [
    "model.score(X_test,y_test)"
   ]
  },
  {
   "cell_type": "code",
   "execution_count": null,
   "id": "3befd63a",
   "metadata": {},
   "outputs": [],
   "source": []
  },
  {
   "cell_type": "code",
   "execution_count": null,
   "id": "ad70928c",
   "metadata": {},
   "outputs": [],
   "source": [
    "################################\n",
    "##  Random Forest Regression  ##\n",
    "################################"
   ]
  },
  {
   "cell_type": "code",
   "execution_count": null,
   "id": "7e1cfd96",
   "metadata": {},
   "outputs": [],
   "source": [
    "from sklearn.metrics import r2_score\n",
    "from sklearn.model_selection import GridSearchCV\n",
    "\n",
    "from sklearn.ensemble import RandomForestRegressor"
   ]
  },
  {
   "cell_type": "code",
   "execution_count": null,
   "id": "8233d309",
   "metadata": {},
   "outputs": [],
   "source": [
    "# Train the RandomForestRegressor\n",
    "rf_regressor = RandomForestRegressor(n_estimators = 100, random_state = 42)\n",
    "rf_regressor.fit(X_train, y_train)"
   ]
  },
  {
   "cell_type": "code",
   "execution_count": null,
   "id": "338092d0",
   "metadata": {},
   "outputs": [],
   "source": [
    "# Training Accuracy\n",
    "y_pred_train = rf_regressor.predict(X_train)\n",
    "r2_score(y_train, y_pred_train)"
   ]
  },
  {
   "cell_type": "code",
   "execution_count": null,
   "id": "d2856ab3",
   "metadata": {},
   "outputs": [],
   "source": [
    "# Testing Accuracy\n",
    "y_pred = rf_regressor.predict(X_test)\n",
    "r2_score(y_test, y_pred)"
   ]
  },
  {
   "cell_type": "code",
   "execution_count": null,
   "id": "7366daeb",
   "metadata": {},
   "outputs": [],
   "source": []
  },
  {
   "cell_type": "code",
   "execution_count": null,
   "id": "6052cc63",
   "metadata": {},
   "outputs": [],
   "source": [
    "##################################\n",
    "## Gradient Boosting Regressor  ##\n",
    "##################################"
   ]
  },
  {
   "cell_type": "code",
   "execution_count": null,
   "id": "ceaf89b9",
   "metadata": {},
   "outputs": [],
   "source": [
    "from sklearn import ensemble\n",
    "clf = ensemble.GradientBoostingRegressor(n_estimators = 400, max_depth = 5, min_samples_split = 2,\n",
    "          learning_rate = 0.1, loss = 'squared_error')"
   ]
  },
  {
   "cell_type": "code",
   "execution_count": null,
   "id": "801b24ff",
   "metadata": {},
   "outputs": [],
   "source": [
    "clf.fit(X_train, y_train)"
   ]
  },
  {
   "cell_type": "code",
   "execution_count": null,
   "id": "7234f8f2",
   "metadata": {},
   "outputs": [],
   "source": [
    "clf.score(X_test,y_test)"
   ]
  },
  {
   "cell_type": "code",
   "execution_count": null,
   "id": "8fbfc49f",
   "metadata": {},
   "outputs": [],
   "source": [
    "## Train the model with PMML wrapper\n",
    "from sklearn2pmml.pipeline import PMMLPipeline\n",
    "\n",
    "clf = PMMLPipeline(\n",
    "    [\n",
    "        (\n",
    "            \"classifier\",\n",
    "            ensemble.GradientBoostingRegressor(n_estimators = 400, max_depth = 5, min_samples_split = 2,\n",
    "          learning_rate = 0.1, loss = 'squared_error'),\n",
    "        )\n",
    "    ]\n",
    ")"
   ]
  },
  {
   "cell_type": "code",
   "execution_count": null,
   "id": "cf01a9fd",
   "metadata": {},
   "outputs": [],
   "source": [
    "clf.fit(X_train, y_train)"
   ]
  },
  {
   "cell_type": "code",
   "execution_count": null,
   "id": "593ca228",
   "metadata": {},
   "outputs": [],
   "source": [
    "clf.score(X_test,y_test)"
   ]
  },
  {
   "cell_type": "code",
   "execution_count": null,
   "id": "bbb6a631",
   "metadata": {},
   "outputs": [],
   "source": [
    "## Save model to PMML\n",
    "from sklearn2pmml import sklearn2pmml\n",
    "\n",
    "sklearn2pmml(clf, \"boosting_model.pmml\", with_repr=True)"
   ]
  },
  {
   "cell_type": "code",
   "execution_count": null,
   "id": "6ffcdb5b",
   "metadata": {},
   "outputs": [],
   "source": [
    "# convert best model to pure Javascript code  \n",
    "import m2cgen as m2c \n",
    "\n",
    "model_to_javascript = m2c.export_to_javascript(rf_regressor) \n",
    "model_to_javascript"
   ]
  }
 ],
 "metadata": {
  "kernelspec": {
   "display_name": "mlenv",
   "language": "python",
   "name": "mlenv"
  },
  "language_info": {
   "codemirror_mode": {
    "name": "ipython",
    "version": 3
   },
   "file_extension": ".py",
   "mimetype": "text/x-python",
   "name": "python",
   "nbconvert_exporter": "python",
   "pygments_lexer": "ipython3",
   "version": "3.7.13"
  }
 },
 "nbformat": 4,
 "nbformat_minor": 5
}
